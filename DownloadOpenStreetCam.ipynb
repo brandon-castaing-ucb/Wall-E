{
 "cells": [
  {
   "cell_type": "code",
   "execution_count": null,
   "metadata": {},
   "outputs": [],
   "source": [
    "!pip uninstall -y s3fs\n",
    "!pip install s3fs==0.4.0\n",
    "\n",
    "import s3fs\n",
    "assert(s3fs.__version__  == \"0.4.0\")\n",
    "bucket_name = \"ucb-mids-wall-e-andy-test\"\n",
    "\n",
    "fs = s3fs.S3FileSystem(anon=False, key='', secret='')\n",
    "print(fs.ls(bucket_name))\n",
    "\n",
    "import sys\n",
    "import urllib.request\n"
   ]
  },
  {
   "cell_type": "code",
   "execution_count": null,
   "metadata": {},
   "outputs": [],
   "source": [
    "for fname in fs.ls(bucket_name + \"/OpenStreetCam/openstreetcam_data_raw/\"):\n",
    "    with fs.open(fname, 'rb') as f_in:\n",
    "        for raw_line in f_in:\n",
    "            line = raw_line.decode(\"utf-8\")\n",
    "            split_line = line.split(\"\\t\")\n",
    "            track_id, image_id, url = split_line[0], split_line[1], split_line[-1]\n",
    "            target_name = bucket_name + \"/OpenStreetCam/openstreetcam_data_images/{}_{}.jpg\".format(track_id, image_id)\n",
    "            print(target_name)\n",
    "\n",
    "            if fs.exists(target_name):\n",
    "                print(\"skipped\")\n",
    "                continue\n",
    "                \n",
    "            f = urllib.request.urlopen(url, timeout=1800)\n",
    "            imbytes = f.read()\n",
    "            \n",
    "            if not imbytes is None:\n",
    "                fs.touch(target_name)\n",
    "                f_out = fs.open(target_name, \"wb\")\n",
    "                f_out.write(imbytes)\n",
    "                f_out.close()\n",
    "                print(\"downloaded\")\n",
    "                \n",
    "        f_in.close()\n",
    "                \n"
   ]
  },
  {
   "cell_type": "code",
   "execution_count": null,
   "metadata": {},
   "outputs": [],
   "source": []
  }
 ],
 "metadata": {
  "kernelspec": {
   "display_name": "conda_tensorflow_p36",
   "language": "python",
   "name": "conda_tensorflow_p36"
  },
  "language_info": {
   "codemirror_mode": {
    "name": "ipython",
    "version": 3
   },
   "file_extension": ".py",
   "mimetype": "text/x-python",
   "name": "python",
   "nbconvert_exporter": "python",
   "pygments_lexer": "ipython3",
   "version": "3.6.5"
  }
 },
 "nbformat": 4,
 "nbformat_minor": 4
}
