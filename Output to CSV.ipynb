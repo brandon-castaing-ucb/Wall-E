{
 "cells": [
  {
   "cell_type": "markdown",
   "metadata": {},
   "source": [
    "trash_tuple = (image_name, prediction_confidence)\n",
    "def func(trash_tuple):\n",
    "    print(\"hello\")\n",
    "    \n",
    "Darren: Create python function for combining image name with CSV attributes for Malaga + OpenStreet"
   ]
  },
  {
   "cell_type": "code",
   "execution_count": 44,
   "metadata": {},
   "outputs": [],
   "source": [
    "def OutputForMap(trash_tuple):\n",
    "    \"\"\"Combining image name with CSV attributes for Malaga and OSC.\"\"\"\n",
    "    \n",
    "    # Splitting components of tuple\n",
    "    image_name, conf = trash_tuple\n",
    "    \n",
    "    # Creating variable to store output\n",
    "    output = dict()\n",
    "    \n",
    "    # Reading CSV file\n",
    "    import csv\n",
    "    \n",
    "    # If image is from Malaga\n",
    "    if '_right.jpg' in image_name: \n",
    "        \n",
    "        with open ('malaga.csv') as csv_file:\n",
    "            csv_reader = csv.reader(csv_file, delimiter = ',')\n",
    "            \n",
    "            # Iterating through every record on file\n",
    "            for record in csv_reader:\n",
    "                \n",
    "                # If current image matches the name on record\n",
    "                if image_name == record[0]:\n",
    "                    \n",
    "                    # Store the image details for output to heatmap\n",
    "                    output[image_name] = record[1:]\n",
    "                    output[image_name].append(conf)\n",
    "    \n",
    "    # If image is from OSC\n",
    "    else:\n",
    "        with open ('sf_coordinates.csv') as csv_file:\n",
    "            csv_reader = csv.reader(csv_file, delimiter = ',')\n",
    "            \n",
    "            # Iterating through every record on file\n",
    "            for record in csv_reader:\n",
    "                \n",
    "                # If current image matches the name on record\n",
    "                if image_name == record[0]:\n",
    "                    \n",
    "                    # Store the image details for output to heatmap\n",
    "                    output[image_name] = record[1:]\n",
    "                    output[image_name].append(conf)\n",
    "    \n",
    "    "
   ]
  },
  {
   "cell_type": "code",
   "execution_count": 45,
   "metadata": {},
   "outputs": [
    {
     "name": "stdout",
     "output_type": "stream",
     "text": [
      "{'img_CAMERA1_1261233427.062038_right.jpg': ['36.71454333', '-4.442513333', 'C', 0.7]}\n"
     ]
    }
   ],
   "source": [
    "eg = ('img_CAMERA1_1261233427.062038_right.jpg', 0.7)\n",
    "\n",
    "OutputForMap(eg)"
   ]
  },
  {
   "cell_type": "code",
   "execution_count": null,
   "metadata": {},
   "outputs": [],
   "source": []
  },
  {
   "cell_type": "code",
   "execution_count": null,
   "metadata": {},
   "outputs": [],
   "source": []
  },
  {
   "cell_type": "code",
   "execution_count": null,
   "metadata": {},
   "outputs": [],
   "source": []
  },
  {
   "cell_type": "code",
   "execution_count": null,
   "metadata": {},
   "outputs": [],
   "source": []
  }
 ],
 "metadata": {
  "kernelspec": {
   "display_name": "Python 3",
   "language": "python",
   "name": "python3"
  },
  "language_info": {
   "codemirror_mode": {
    "name": "ipython",
    "version": 3
   },
   "file_extension": ".py",
   "mimetype": "text/x-python",
   "name": "python",
   "nbconvert_exporter": "python",
   "pygments_lexer": "ipython3",
   "version": "3.7.6"
  }
 },
 "nbformat": 4,
 "nbformat_minor": 4
}
